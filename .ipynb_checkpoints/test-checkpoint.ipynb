{
 "cells": [
  {
   "cell_type": "code",
   "execution_count": 5,
   "metadata": {},
   "outputs": [
    {
     "ename": "SyntaxError",
     "evalue": "unexpected EOF while parsing (<ipython-input-5-7711e290c1bf>, line 41)",
     "output_type": "error",
     "traceback": [
      "\u001b[1;36m  File \u001b[1;32m\"<ipython-input-5-7711e290c1bf>\"\u001b[1;36m, line \u001b[1;32m41\u001b[0m\n\u001b[1;33m    \u001b[0m\n\u001b[1;37m    ^\u001b[0m\n\u001b[1;31mSyntaxError\u001b[0m\u001b[1;31m:\u001b[0m unexpected EOF while parsing\n"
     ]
    }
   ],
   "source": [
    "import pandas\n",
    "import geopandas\n",
    "import holoviews\n",
    "from datashader.bundling import directly_connect_edges, hammer_bundle\n",
    "from holoviews.operation.datashader import dynspread, datashade\n",
    "from holoviews.operation import decimate\n",
    "from colorcet import fire\n",
    "holoviews.notebook_extension('bokeh','matplotlib')\n",
    "\n",
    "decimate.max_samples=20000\n",
    "dynspread.threshold=0.01\n",
    "datashade.cmap=fire[40:]\n",
    "sz = dict(width=500,height=500)\n",
    "valueFieldName = 'sod_transvolume'\n",
    "\n",
    "# r_nodes_df = pandas.read_parquet(r\"E:\\citySystem\\2022_spring\\visualization\\calvert_uk_research2017.snappy.parq\"\n",
    "#                                  r\"\\calvert_uk_research2017_nodes.snappy.parq\")\n",
    "# r_edges_df = pandas.read_parquet(r\"E:\\citySystem\\2022_spring\\visualization\\calvert_uk_research2017.snappy.parq\"\n",
    "#                                  r\"\\calvert_uk_research2017_edges.snappy.parq\")\n",
    "transVolumeDf = pandas.read_csv(r\"E:\\citySystem\\2022_spring\\weekn\\data0512\\data0512数据更新\"\n",
    "                                r\"\\输出数据\\sod\\sod_transvolume.csv\")\n",
    "subdistrictDf = geopandas.read_file(r\"E:\\citySystem\\2022_spring\\weekn\\data0512\\输入数据\\svd\\svd_subdistrict_y.shp\")\n",
    "subdistrictCentroid = subdistrictDf['geometry'].apply(lambda x: x.centroid)\n",
    "subdistrictCentroid4326 = subdistrictCentroid.to_crs(\"EPSG:4326\")\n",
    "xList = subdistrictCentroid4326.apply(lambda x: x.x)\n",
    "yList = subdistrictCentroid4326.apply(lambda x: x.y)\n",
    "idList = subdistrictDf['STID'].astype(int).values\n",
    "centroidDf = pandas.DataFrame({\n",
    "    \"ID\": idList,\n",
    "    \"x\": xList,\n",
    "    \"y\": yList\n",
    "})\n",
    "centroidDf.set_index(\"ID\", inplace=True)\n",
    "transVolumeDf.rename(columns={\"OZone_STID\": \"source\", \"DZone_STID\": \"target\"}, inplace=True)\n",
    "r_nodes = holoviews.Points(centroidDf, label=\"Nodes\")\n",
    "r_edges = holoviews.Curve(transVolumeDf, label=\"Edges\")\n",
    "r_direct = holoviews.Curve(directly_connect_edges(r_nodes.data, r_edges.data), label=\"Direct\")\n",
    "dynspread(datashade(r_direct)\n",
    "# holoviews.save(composition, \"./test.html\")\n",
    "# print(\"ee\")\n",
    "\n"
   ]
  },
  {
   "cell_type": "code",
   "execution_count": null,
   "metadata": {},
   "outputs": [],
   "source": [
    "r_bundled = hv.Curve(hammer_bundle(r_nodes.data, r_edges.data),label=\"Bundled\")\n",
    "dynspread(datashade(r_nodes,cmap=[\"cyan\"])) + datashade(r_bundled)"
   ]
  }
 ],
 "metadata": {
  "kernelspec": {
   "display_name": "Python 3",
   "language": "python",
   "name": "python3"
  },
  "language_info": {
   "codemirror_mode": {
    "name": "ipython",
    "version": 3
   },
   "file_extension": ".py",
   "mimetype": "text/x-python",
   "name": "python",
   "nbconvert_exporter": "python",
   "pygments_lexer": "ipython3",
   "version": "3.9.5"
  }
 },
 "nbformat": 4,
 "nbformat_minor": 1
}
